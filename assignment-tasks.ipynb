{
 "cells": [
  {
   "cell_type": "markdown",
   "metadata": {},
   "source": [
    "# Problema de Designação de Tarefas"
   ]
  },
  {
   "cell_type": "markdown",
   "metadata": {},
   "source": [
    "<div style=\"text-align:justify\">\n",
    "O problema de designação de tarefas consiste em designar pessoas para realizar tarefas. Este experimento vai simular a designação de pessoas para projetos de software. Vamos considerar que as pessoas possuem características específicas, tais como: senioridade, conhecimento em tecnologias e idiomas. Por sua vez, as necessidades dos projetos de software possuem as mesmas características.\n",
    "<br><br>\n",
    "A designação deve maximizar a semelhança entre as características da pessoa e da necessidade, levando em consideração a urgência do projeto. A urgência do projeto leva em consideração o número de pessoas no squad, o número de pessoas necessárias e a data de abertura da necessidade.\n",
    "</div>\n",
    "<br>\n",
    "<u>Premissas</u>:\n",
    "\n",
    "- A computação considera que necessidades resolvidas foram retiradas da listagem\n",
    "- Quando houver apenas uma necessidade e uma pessoa, a relação é resolvida pela designação direta"
   ]
  },
  {
   "cell_type": "markdown",
   "metadata": {},
   "source": [
    "## Variáveis do Problema"
   ]
  },
  {
   "cell_type": "markdown",
   "metadata": {},
   "source": [
    "Seja:<br>\n",
    "- <code>p<sub>i</sub></code> = A <code>i-ésima</code> pessoa disponível para alocação\n",
    "- <code>n<sub>j</sub></code> = A <code>j-ésima</code> necessidade de projeto\n",
    "- <code>s<sub>ij</sub></code> = A similaridade entre a <code>p<sub>i</sub></code> e <code>n<sub>j</sub></code>\n",
    "- <code>u<sub>j</sub></code> = A <code>j-ésima</code> urgência da necessidade\n",
    "- <code>w<sub>ij</sub></code> = O fator de combinação entre <code>s<sub>ij</sub></code> e <code>u<sub>j</sub></code>\n",
    "- <code>a<sub>ij</sub></code> = A matriz de ativação entre a <code>p<sub>i</sub></code> e <code>n<sub>j</sub> &isin; {0, 1}</code>\n",
    "- <code>x<sub>ij</sub></code> = <code>x<sub>ij</sub> &isin; {0, 1}</code"
   ]
  },
  {
   "cell_type": "markdown",
   "metadata": {},
   "source": [
    "#### Onde:"
   ]
  },
  {
   "cell_type": "markdown",
   "metadata": {},
   "source": [
    "Obtemos a similaridade <code>s<sub>ij</sub></code> através relação dada pelo produto escalar: $$ AB = |A||B|cos(\\theta) $$"
   ]
  },
  {
   "cell_type": "markdown",
   "metadata": {},
   "source": [
    "logo,"
   ]
  },
  {
   "cell_type": "markdown",
   "metadata": {},
   "source": [
    "$$ s_{ij} = cos(\\theta) = \\frac{AB}{|A||B|}= \\frac{\\sum_{i=0}^{n} A_i.B_i}{\\sqrt{\\sum_{i=0}^{n} A_i^2} \\sqrt{\\sum_{i=0}^{n} B_i^2}},\\forall j=0...m$$"
   ]
  },
  {
   "cell_type": "markdown",
   "metadata": {},
   "source": [
    "----"
   ]
  },
  {
   "cell_type": "markdown",
   "metadata": {},
   "source": [
    "A urgência <code>u<sub>ij</sub></code> da necessidade é dada pela relação:"
   ]
  },
  {
   "cell_type": "markdown",
   "metadata": {},
   "source": [
    "$$ u_j = \\sum_{j=0}^{m} d_j * \\frac{1}{30} - h_j * \\frac{1}{t_j}$$"
   ]
  },
  {
   "cell_type": "markdown",
   "metadata": {},
   "source": [
    "<div style=\"text-align:justify\">\n",
    "onde: <code>d<sub>j</sub><code> corresponde ao número de dias desde a abertura da necessidade, <code>h<sub>j</sub><code> ao número de pessoas do time atual e <code>t<sub>j</sub><code> ao número total de pessoas previsto.\n",
    "</div>"
   ]
  },
  {
   "cell_type": "markdown",
   "metadata": {},
   "source": [
    "----"
   ]
  },
  {
   "cell_type": "markdown",
   "metadata": {},
   "source": [
    "$$ w_{ij} = \\sum_{i=0}^{n} \\sum_{j=0}^{m} s_{ij}+u_j $$"
   ]
  },
  {
   "cell_type": "markdown",
   "metadata": {},
   "source": [
    "<div style=\"text-align:justify\">\n",
    "As similaridades <code>s<sub>ij</sub></code> são somadas as urgências <code>u<sub>j</sub></code> para compor o fator de combinação entre pessoas e necessidades. Obtemos <code>w<sub>ij</sub></code> a partir da soma destes coeficientes.\n",
    "</div>"
   ]
  },
  {
   "cell_type": "markdown",
   "metadata": {},
   "source": [
    "----"
   ]
  },
  {
   "cell_type": "markdown",
   "metadata": {},
   "source": [
    "$$ a_{ij} = 1 \\forall (c_i == k_j) $$"
   ]
  },
  {
   "cell_type": "markdown",
   "metadata": {},
   "source": [
    "Produz uma matriz binária de ativação onde <code>c<sub>i</sub><code> é o papel da pessoa e <code>k<sub>j</sub><code> é o papel da vaga."
   ]
  },
  {
   "cell_type": "markdown",
   "metadata": {},
   "source": [
    "## Modelagem"
   ]
  },
  {
   "cell_type": "markdown",
   "metadata": {},
   "source": [
    "Seja:"
   ]
  },
  {
   "cell_type": "markdown",
   "metadata": {},
   "source": [
    "$$ max \\sum_{i=0}^{n} \\sum_{j=0}^m x_{ij}.w_{ij}.a_{ij} $$"
   ]
  },
  {
   "cell_type": "markdown",
   "metadata": {},
   "source": [
    "onde pretendemos obter o fator de combinação máxima para <code>x<sub>ij</sub></code>, sob as restrições:"
   ]
  },
  {
   "cell_type": "markdown",
   "metadata": {},
   "source": [
    "$$ c_1 = \\sum_{j=0}^{m} x_{ij} \\leq 1, \\forall i=0...n $$"
   ]
  },
  {
   "cell_type": "markdown",
   "metadata": {},
   "source": [
    "$$ c_2 = \\sum_{i=0}^{n} x_{ij} \\leq 1, \\forall j=0...m $$"
   ]
  },
  {
   "cell_type": "markdown",
   "metadata": {},
   "source": [
    "garantindo que cada pessoa será designada a apenas uma necessidade e vice-versa."
   ]
  },
  {
   "cell_type": "markdown",
   "metadata": {},
   "source": [
    "## Implementação"
   ]
  },
  {
   "cell_type": "markdown",
   "metadata": {},
   "source": [
    "<div style=\"text-align:justify\">\n",
    "Vamos implementar uma situação exemplo para designar pessoas a projetos de software. Essa designação utiliza dados sintéticos, tanto para o perfil das pessoas quanto para o perfil das necessidades.\n",
    "</div>"
   ]
  },
  {
   "cell_type": "markdown",
   "metadata": {},
   "source": [
    "#### Carregando Dependências"
   ]
  },
  {
   "cell_type": "code",
   "execution_count": 1,
   "metadata": {},
   "outputs": [],
   "source": [
    "import pandas\n",
    "import gurobipy\n",
    "import simulator\n",
    "\n",
    "from datetime import datetime\n",
    "from matplotlib import pyplot\n",
    "from sklearn.metrics.pairwise import cosine_similarity\n",
    "\n",
    "%matplotlib inline"
   ]
  },
  {
   "cell_type": "markdown",
   "metadata": {},
   "source": [
    "#### Configurações"
   ]
  },
  {
   "cell_type": "markdown",
   "metadata": {},
   "source": [
    "Configurações de exibição do `jupyter notebook`."
   ]
  },
  {
   "cell_type": "code",
   "execution_count": 2,
   "metadata": {},
   "outputs": [],
   "source": [
    "pyplot.rcParams['figure.figsize'] = (15, 8)"
   ]
  },
  {
   "cell_type": "markdown",
   "metadata": {},
   "source": [
    "#### Carregando Dados"
   ]
  },
  {
   "cell_type": "markdown",
   "metadata": {},
   "source": [
    "<div style=\"text-align:justify\">\n",
    "Os datasets utilizados nesse experimento foram criados para simular uma situação de designação. O arquivo <code>necessidades.csv</code> representa as necessidades abertas em projetos, enquanto o arquivo <code>pessoas.csv</code> contém as pessoas disponíveis para alocação. Os arquivos possuem dimensões em comum, que serão utilizadas para calcular a similaridade entre a pessoa e a necessidade. As dimensões comuns, são:\n",
    "</div>"
   ]
  },
  {
   "cell_type": "markdown",
   "metadata": {},
   "source": [
    "<div style=\"text-align:justify\">\n",
    "<code>skill_backend</code>, <code>skill_frontend</code>, <code>skill_java</code>, <code>skill_python</code>, <code>skill_spring</code>, <code>skill_reactjs</code>, <code>skill_angular</code>, <code>skill_dtaengineering</code>, <code>skill_datascience</code>, <code>skill_po</code>, <code>senior</code>, <code>pleno</code>, <code>junior</code>, <code>ing_avancado</code>, <code>ing_intermediario</code>, <code>ing_basico</code>.\n",
    "</div>"
   ]
  },
  {
   "cell_type": "markdown",
   "metadata": {},
   "source": [
    "<div style=\"text-align:justify\">\n",
    "As dimensões apresentadas acima não representam todas as habilidades necessárias para um cenário de similaridade. Estas dimensões devem ser ampliadas antes de serem aplicadas em um cenário real.\n",
    "</div>"
   ]
  },
  {
   "cell_type": "code",
   "execution_count": 3,
   "metadata": {},
   "outputs": [],
   "source": [
    "df_necessi = pandas.read_csv('datasets/necessidades.csv')\n",
    "df_pessoas = pandas.read_csv('datasets/pessoas.csv')"
   ]
  },
  {
   "cell_type": "markdown",
   "metadata": {},
   "source": [
    "#### Função de Urgência"
   ]
  },
  {
   "cell_type": "markdown",
   "metadata": {},
   "source": [
    "<div style=\"text-align:justify\">\n",
    "A seguir, a função que calcula a urgência de uma necessidade. Essa é uma função linear, e sua taxa de inclinação está relacionada ao número de dias que a necessidade está aberta e ao tamanho atual da equipe, em relação ao tamanho esperado.\n",
    "</div>"
   ]
  },
  {
   "cell_type": "code",
   "execution_count": 4,
   "metadata": {},
   "outputs": [],
   "source": [
    "def fn_urgencia(d, h, t, window=30):\n",
    "    return (d / window) - (h / t)"
   ]
  },
  {
   "cell_type": "markdown",
   "metadata": {},
   "source": [
    "#### Análise Experimental de Decaimento"
   ]
  },
  {
   "cell_type": "markdown",
   "metadata": {},
   "source": [
    "<div style=\"text-align:justify\">\n",
    "Para analisar o comportamento da função de urgência, vamos simular cenários onde três necessidades competem entre si pela alocação de pessoas. As necessidades com maior taxa de urgência tem maior chance de ser atendida. Nessa simulação, assumimos que as três necessidades tem as mesmas características e a mesma similiridade entre as pessoas.\n",
    "</div>"
   ]
  },
  {
   "cell_type": "markdown",
   "metadata": {},
   "source": [
    "----"
   ]
  },
  {
   "cell_type": "markdown",
   "metadata": {},
   "source": [
    "<u>Teste: Cenário 1</u>:\n",
    "\n",
    "- Necessidade 1: Um squad precisa de 10 desenvolvedores e já tem 4 alocados\n",
    "- Necessidade 2: Um novo projeto está iniciando e precisa de um squad com 3 desenvolvedores\n",
    "- Necessidade 3: Um novo projeto está iniciando e precisa de um squad com 50 desenvolvedores\n",
    "<br><br>\n",
    "\n",
    "Condições:\n",
    "\n",
    "- As vagas foram abertas no mesmo dia\n",
    "- Vamos analisar a variação da taxa de urgência ao longo de 30 dias corridos\n",
    "- Contratamos a uma taxa constante de 2 pessoas por semana, para esse perfil demandado"
   ]
  },
  {
   "cell_type": "code",
   "execution_count": 5,
   "metadata": {},
   "outputs": [
    {
     "name": "stdout",
     "output_type": "stream",
     "text": [
      "Contratações:\n",
      "Necessidade 1 - Esperado 10 Designado 4\n",
      "Necessidade 2 - Esperado 3 Designado 1\n",
      "Necessidade 3 - Esperado 50 Designado 8\n"
     ]
    },
    {
     "data": {
      "image/png": "[encoded data removed]",
      "text/plain": [
       "<Figure size 1080x576 with 1 Axes>"
      ]
     },
     "metadata": {
      "needs_background": "light"
     },
     "output_type": "display_data"
    }
   ],
   "source": [
    "simulator.run(\n",
    "    weekends = [1, 7, 8, 14, 15, 21, 22, 28, 29],\n",
    "    hiring_days = [3, 5, 9, 11, 16, 18, 23, 26, 30],\n",
    "    sqd_s1 = 10, sqd_s2 = 3, sqd_s3 = 50,\n",
    "    sqd_a1 = 4, sqd_a2 = 0, sqd_a3 = 0,\n",
    "    fn = fn_urgencia\n",
    ")"
   ]
  },
  {
   "cell_type": "markdown",
   "metadata": {},
   "source": [
    "----"
   ]
  },
  {
   "cell_type": "markdown",
   "metadata": {},
   "source": [
    "<u>Teste: Cenário 2</u>:\n",
    "\n",
    "Identico ao <u>Cenário de Teste 1</u>, mas o fluxo de contratação para o perfil demandado é 1 pessoa por semana."
   ]
  },
  {
   "cell_type": "code",
   "execution_count": 6,
   "metadata": {},
   "outputs": [
    {
     "name": "stdout",
     "output_type": "stream",
     "text": [
      "Contratações:\n",
      "Necessidade 1 - Esperado 10 Designado 4\n",
      "Necessidade 2 - Esperado 3 Designado 1\n",
      "Necessidade 3 - Esperado 50 Designado 4\n"
     ]
    },
    {
     "data": {
      "image/png": "[encoded data removed]",
      "text/plain": [
       "<Figure size 1080x576 with 1 Axes>"
      ]
     },
     "metadata": {
      "needs_background": "light"
     },
     "output_type": "display_data"
    }
   ],
   "source": [
    "simulator.run(\n",
    "    weekends = [1, 7, 8, 14, 15, 21, 22, 28, 29],\n",
    "    hiring_days = [3, 9, 16, 23, 30],\n",
    "    sqd_s1 = 10, sqd_s2 = 3, sqd_s3 = 50,\n",
    "    sqd_a1 = 4, sqd_a2 = 0, sqd_a3 = 0,\n",
    "    fn = fn_urgencia\n",
    ")"
   ]
  },
  {
   "cell_type": "markdown",
   "metadata": {},
   "source": [
    "----"
   ]
  },
  {
   "cell_type": "markdown",
   "metadata": {},
   "source": [
    "<u>Teste: Cenário 3</u>:\n",
    "\n",
    "- Necessidade 1: Um novo projeto está iniciando e precisa de um squad com 3 desenvolvedores\n",
    "- Necessidade 2: Um novo projeto está iniciando e precisa de um squad com 10 desenvolvedores\n",
    "- Necessidade 3: Um novo projeto está iniciando e precisa de um squad com 50 desenvolvedores\n",
    "<br><br>\n",
    "\n",
    "Condições:\n",
    "\n",
    "- As vagas foram abertas no mesmo dia\n",
    "- Vamos analisar a variação da taxa de urgência ao longo de 30 dias corridos\n",
    "- Contratamos a uma taxa constante de 2 pessoas por semana, para esse perfil demandado"
   ]
  },
  {
   "cell_type": "code",
   "execution_count": 7,
   "metadata": {},
   "outputs": [
    {
     "name": "stdout",
     "output_type": "stream",
     "text": [
      "Contratações:\n",
      "Necessidade 1 - Esperado 3 Designado 1\n",
      "Necessidade 2 - Esperado 10 Designado 2\n",
      "Necessidade 3 - Esperado 50 Designado 6\n"
     ]
    },
    {
     "data": {
      "image/png": "[encoded data removed]",
      "text/plain": [
       "<Figure size 1080x576 with 1 Axes>"
      ]
     },
     "metadata": {
      "needs_background": "light"
     },
     "output_type": "display_data"
    }
   ],
   "source": [
    "simulator.run(\n",
    "    weekends = [1, 7, 8, 14, 15, 21, 22, 28, 29],\n",
    "    hiring_days = [3, 5, 9, 11, 16, 18, 23, 26, 30],\n",
    "    sqd_s1 = 3, sqd_s2 = 10, sqd_s3 = 50,\n",
    "    sqd_a1 = 0, sqd_a2 = 0, sqd_a3 = 0,\n",
    "    fn = fn_urgencia\n",
    ")"
   ]
  },
  {
   "cell_type": "markdown",
   "metadata": {},
   "source": [
    "#### Calcular Urgência"
   ]
  },
  {
   "cell_type": "markdown",
   "metadata": {},
   "source": [
    "<div style=\"text-align:justify\">\n",
    "Para facilitar a computação de algumas métricas, vamos deixar pré-calculada a urgência das necessidades. Consideramos o número de dias entre a data atual e a data de abertura da necessidade. Tomamos o dia <code>01/12/2020</code> como baseline para esse cálculo.\n",
    "</div>"
   ]
  },
  {
   "cell_type": "code",
   "execution_count": 8,
   "metadata": {},
   "outputs": [],
   "source": [
    "def date_diff(dts_0, dts_1='01/12/2020'):\n",
    "    dt_0 = datetime.strptime(dts_0, '%d/%m/%Y')\n",
    "    dt_1 = datetime.strptime(dts_1, '%d/%m/%Y')\n",
    "    delta = dt_1 - dt_0\n",
    "    return delta.days\n",
    "\n",
    "df_necessi['nr_dias'] = df_necessi['dt_abertura'].apply(lambda x : date_diff(x))\n",
    "\n",
    "df_necessi['u'] = df_necessi.apply(\n",
    "    lambda x : fn_urgencia(x['nr_dias'], x['tm_atual'], x['tm_squad']),\n",
    "    axis=1\n",
    ")"
   ]
  },
  {
   "cell_type": "markdown",
   "metadata": {},
   "source": [
    "#### Similaridade"
   ]
  },
  {
   "cell_type": "markdown",
   "metadata": {},
   "source": [
    "Calcular matriz de similaridades entre as pessoas e as necessidades."
   ]
  },
  {
   "cell_type": "code",
   "execution_count": 9,
   "metadata": {},
   "outputs": [
    {
     "name": "stdout",
     "output_type": "stream",
     "text": [
      "Shape: (10, 15)\n"
     ]
    }
   ],
   "source": [
    "skill_cols = df_pessoas.columns[3:]\n",
    "\n",
    "necessi = df_necessi[skill_cols].values\n",
    "pessoas = df_pessoas[skill_cols].values\n",
    "\n",
    "sim = cosine_similarity(pessoas, necessi)\n",
    "shape = sim.shape\n",
    "\n",
    "s = sim.tolist()\n",
    "print('Shape: {}'.format(shape))"
   ]
  },
  {
   "cell_type": "markdown",
   "metadata": {},
   "source": [
    "#### Indexar Pessoas"
   ]
  },
  {
   "cell_type": "markdown",
   "metadata": {},
   "source": [
    "Indexar pessoas pelo `id` da pessoa."
   ]
  },
  {
   "cell_type": "code",
   "execution_count": 10,
   "metadata": {},
   "outputs": [
    {
     "name": "stdout",
     "output_type": "stream",
     "text": [
      "['pid_1', 'pid_2', 'pid_3', 'pid_4', 'pid_5']\n"
     ]
    }
   ],
   "source": [
    "p = []\n",
    "\n",
    "p_ids = df_pessoas['id'].values\n",
    "for value in p_ids:\n",
    "    p.append('pid_{}'.format(value))\n",
    "\n",
    "print(p[:5])"
   ]
  },
  {
   "cell_type": "markdown",
   "metadata": {},
   "source": [
    "#### Indexar Necessidades"
   ]
  },
  {
   "cell_type": "markdown",
   "metadata": {},
   "source": [
    "Indexar necessidades pelo `id` da necessidade."
   ]
  },
  {
   "cell_type": "code",
   "execution_count": 11,
   "metadata": {},
   "outputs": [
    {
     "name": "stdout",
     "output_type": "stream",
     "text": [
      "['nid_1', 'nid_2', 'nid_3', 'nid_4', 'nid_5']\n"
     ]
    }
   ],
   "source": [
    "n = []\n",
    "\n",
    "n_ids = df_necessi['id'].values\n",
    "for value in n_ids:\n",
    "    n.append('nid_{}'.format(value))\n",
    "\n",
    "print(n[:5])"
   ]
  },
  {
   "cell_type": "markdown",
   "metadata": {},
   "source": [
    "#### Calcular Urgência"
   ]
  },
  {
   "cell_type": "code",
   "execution_count": 12,
   "metadata": {},
   "outputs": [],
   "source": [
    "u = df_necessi['u'].values\n",
    "\n",
    "for i, _ in enumerate(s):\n",
    "    for j, _ in enumerate(u):\n",
    "        s[i][j] = s[i][j] + u[j]"
   ]
  },
  {
   "cell_type": "markdown",
   "metadata": {},
   "source": [
    "#### Fator de Combinção"
   ]
  },
  {
   "cell_type": "code",
   "execution_count": 13,
   "metadata": {},
   "outputs": [],
   "source": [
    "w = {}\n",
    "\n",
    "for i, m in enumerate(p):\n",
    "    for j, k in enumerate(n):\n",
    "        w[m,k] = s[i][j]"
   ]
  },
  {
   "cell_type": "markdown",
   "metadata": {},
   "source": [
    "#### Matriz de Ativação"
   ]
  },
  {
   "cell_type": "markdown",
   "metadata": {},
   "source": [
    "<div style=\"text-align:justify\">\n",
    "A matriz de ativação é uma matriz binária, com fator <code>1</code> para <code>p<sub>i</sub> == n<sub>j</sub></code>.\n",
    "</div>"
   ]
  },
  {
   "cell_type": "code",
   "execution_count": 14,
   "metadata": {},
   "outputs": [],
   "source": [
    "p_per = df_pessoas['perfil'].values\n",
    "n_per = df_necessi['perfil'].values\n",
    "\n",
    "a = {}\n",
    "\n",
    "for i, valuei in enumerate(p):\n",
    "    for j, valuej in enumerate(n):\n",
    "        a[valuei,valuej] = 1 if p_per[i] == n_per[j] else 0"
   ]
  },
  {
   "cell_type": "markdown",
   "metadata": {},
   "source": [
    "#### Modelagem"
   ]
  },
  {
   "cell_type": "markdown",
   "metadata": {},
   "source": [
    "<div style=\"text-align:justify\">\n",
    "O objetivo dessa modelagem é maximizar o fator de urgência da necessidade, combinando a similaridade com da necessidade com as pessoas. Os valores máximos garantem que foi realizado o melhor match entre pessoa e necessidade, além de que as necessidades mais urgentes serão atendidas. Uma matriz de ativação também é combinada a essa otimização, garantindo que haja igualdade entre o papel da pessoa e da necessidade.\n",
    "<br><br>\n",
    "Duas restrições são adicionadas à modelagem, garantindo que uma necessidade será atendida por uma pessoa, e uma pessoa será designada a apenas uma necessidade. Não é o objetivo otimizar designações parciais ou multiplas.\n",
    "</div>"
   ]
  },
  {
   "cell_type": "code",
   "execution_count": 15,
   "metadata": {},
   "outputs": [
    {
     "name": "stdout",
     "output_type": "stream",
     "text": [
      "Restricted license - for non-production use only - expires 2022-01-13\n",
      "Gurobi Optimizer version 9.1.1 build v9.1.1rc0 (linux64)\n",
      "Thread count: 4 physical cores, 8 logical processors, using up to 8 threads\n",
      "Optimize a model with 25 rows, 150 columns and 300 nonzeros\n",
      "Model fingerprint: 0xa2163040\n",
      "Variable types: 0 continuous, 150 integer (150 binary)\n",
      "Coefficient statistics:\n",
      "  Matrix range     [1e+00, 1e+00]\n",
      "  Objective range  [2e-02, 1e+00]\n",
      "  Bounds range     [1e+00, 1e+00]\n",
      "  RHS range        [1e+00, 1e+00]\n",
      "Found heuristic solution: objective 6.3573048\n",
      "Presolve removed 19 rows and 142 columns\n",
      "Presolve time: 0.31s\n",
      "Presolved: 6 rows, 8 columns, 16 nonzeros\n",
      "Found heuristic solution: objective 7.2739714\n",
      "Variable types: 0 continuous, 8 integer (8 binary)\n",
      "\n",
      "Root relaxation: objective 7.373971e+00, 0 iterations, 0.00 seconds\n",
      "\n",
      "    Nodes    |    Current Node    |     Objective Bounds      |     Work\n",
      " Expl Unexpl |  Obj  Depth IntInf | Incumbent    BestBd   Gap | It/Node Time\n",
      "\n",
      "*    0     0               0       7.3739714    7.37397  0.00%     -    0s\n",
      "\n",
      "Explored 0 nodes (0 simplex iterations) in 0.42 seconds\n",
      "Thread count was 8 (of 8 available processors)\n",
      "\n",
      "Solution count 3: 7.37397 7.27397 6.3573 \n",
      "\n",
      "Optimal solution found (tolerance 1.00e-04)\n",
      "Best objective 7.373971441070e+00, best bound 7.373971441070e+00, gap 0.0000%\n"
     ]
    }
   ],
   "source": [
    "model = gurobipy.Model()\n",
    "\n",
    "x = model.addVars(p, n, vtype=gurobipy.GRB.BINARY)\n",
    "\n",
    "model.setObjective(\n",
    "    gurobipy.quicksum(x[i,j] * w[i,j] * a[i,j] for i in p for j in n),\n",
    "    sense=gurobipy.GRB.MAXIMIZE\n",
    ")\n",
    "\n",
    "c1 = model.addConstrs(\n",
    "    gurobipy.quicksum(x[i,j] for j in n) <= 1 for i in p\n",
    ")\n",
    "\n",
    "c2 = model.addConstrs(\n",
    "    gurobipy.quicksum(x[i,j] for i in p) <= 1 for j in n\n",
    ")\n",
    "\n",
    "model.optimize()"
   ]
  },
  {
   "cell_type": "markdown",
   "metadata": {},
   "source": [
    "#### Análise Resultante"
   ]
  },
  {
   "cell_type": "code",
   "execution_count": 16,
   "metadata": {},
   "outputs": [
    {
     "name": "stdout",
     "output_type": "stream",
     "text": [
      "Pessoa ID 1 -> Projeto ID 2\n",
      "Pessoa ID 2 -> Projeto ID 4\n",
      "Pessoa ID 3 -> Projeto ID 7\n",
      "Pessoa ID 4 -> Projeto ID 13\n",
      "Pessoa ID 5 -> Projeto ID 1\n",
      "Pessoa ID 6 -> Projeto ID 3\n",
      "Pessoa ID 7 -> Projeto ID 5\n",
      "Pessoa ID 9 -> Projeto ID 14\n",
      "Pessoa ID 10 -> Projeto ID 8\n"
     ]
    }
   ],
   "source": [
    "for i in p:\n",
    "    for j in n:\n",
    "        if round(x[i,j].X) == 1:\n",
    "            print('Pessoa ID {} -> Projeto ID {}'.format(str(i)[4:], str(j)[4:]))"
   ]
  }
 ],
 "metadata": {
  "kernelspec": {
   "display_name": "Python 3",
   "language": "python",
   "name": "python3"
  },
  "language_info": {
   "codemirror_mode": {
    "name": "ipython",
    "version": 3
   },
   "file_extension": ".py",
   "mimetype": "text/x-python",
   "name": "python",
   "nbconvert_exporter": "python",
   "pygments_lexer": "ipython3",
   "version": "3.8.5"
  }
 },
 "nbformat": 4,
 "nbformat_minor": 4
}
